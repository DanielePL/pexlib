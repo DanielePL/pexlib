{
 "cells": [
  {
   "cell_type": "code",
   "execution_count": null,
   "id": "initial_id",
   "metadata": {
    "collapsed": true
   },
   "outputs": [],
   "source": [
    "// index.js - Express-Server für eine React-Anwendung\n",
    "\n",
    "const express = require('express');\n",
    "const path = require('path');\n",
    "const cors = require('cors');\n",
    "const app = express();\n",
    "\n",
    "// Middleware\n",
    "app.use(cors());\n",
    "app.use(express.json());\n",
    "\n",
    "// Statische Dateien aus dem Build-Verzeichnis servieren\n",
    "app.use(express.static(path.join(__dirname, 'build')));\n",
    "\n",
    "// API-Endpunkte können hier hinzugefügt werden\n",
    "// Beispiel:\n",
    "app.get('/api/status', (req, res) => {\n",
    "  res.json({ status: 'ok' });\n",
    "});\n",
    "\n",
    "// Alle anderen Anfragen zur React-App weiterleiten\n",
    "app.get('*', (req, res) => {\n",
    "  res.sendFile(path.join(__dirname, 'build', 'index.html'));\n",
    "});\n",
    "\n",
    "// Port-Konfiguration - verwendet den von DigitalOcean bereitgestellten Port oder 8080 als Fallback\n",
    "const PORT = process.env.PORT || 8080;\n",
    "\n",
    "app.listen(PORT, () => {\n",
    "  console.log(`Server läuft auf Port ${PORT}`);\n",
    "});"
   ]
  }
 ],
 "metadata": {
  "kernelspec": {
   "display_name": "Python 3",
   "language": "python",
   "name": "python3"
  },
  "language_info": {
   "codemirror_mode": {
    "name": "ipython",
    "version": 2
   },
   "file_extension": ".py",
   "mimetype": "text/x-python",
   "name": "python",
   "nbconvert_exporter": "python",
   "pygments_lexer": "ipython2",
   "version": "2.7.6"
  }
 },
 "nbformat": 4,
 "nbformat_minor": 5
}
